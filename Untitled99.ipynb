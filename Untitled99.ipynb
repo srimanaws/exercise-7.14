{
 "cells": [
  {
   "cell_type": "code",
   "execution_count": 1,
   "id": "04ac71a4-2ca0-4b42-9c4a-a0be31169bf5",
   "metadata": {},
   "outputs": [
    {
     "name": "stdout",
     "output_type": "stream",
     "text": [
      "Array 3 (Vertical Stacking):\n",
      " [[0 1]\n",
      " [2 3]\n",
      " [4 5]\n",
      " [6 7]]\n",
      "\n",
      "Array 4 (Horizontal Stacking):\n",
      " [[0 1 4 5]\n",
      " [2 3 6 7]]\n",
      "\n",
      "Array 5 (Vertical Stacking of Array 4):\n",
      " [[0 1 4 5]\n",
      " [2 3 6 7]\n",
      " [0 1 4 5]\n",
      " [2 3 6 7]]\n",
      "\n",
      "Array 6 (Horizontal Stacking of Array 3):\n",
      " [[0 1 0 1]\n",
      " [2 3 2 3]\n",
      " [4 5 4 5]\n",
      " [6 7 6 7]]\n"
     ]
    }
   ],
   "source": [
    "#Exercise 7.14 by sriman\n",
    "import numpy as np\n",
    "\n",
    "# First, let's create our two arrays\n",
    "array1 = np.array([[0, 1], [2, 3]])\n",
    "array2 = np.array([[4, 5], [6, 7]])\n",
    "\n",
    "# a) We want to stack array1 on top of array2 to create a new array called array3.\n",
    "array3 = np.vstack((array1, array2))\n",
    "print(\"Array 3 (Vertical Stacking):\\n\", array3)\n",
    "\n",
    "# b) Now, let’s put array2 to the right of array1 to create array4.\n",
    "array4 = np.hstack((array1, array2))\n",
    "print(\"\\nArray 4 (Horizontal Stacking):\\n\", array4)\n",
    "\n",
    "# c) Let’s stack two copies of array4 on top of each other to create array5.\n",
    "array5 = np.vstack((array4, array4))\n",
    "print(\"\\nArray 5 (Vertical Stacking of Array 4):\\n\", array5)\n",
    "\n",
    "# d) Finally, we’ll stack two copies of array3 side by side to create array6.\n",
    "array6 = np.hstack((array3, array3))\n",
    "print(\"\\nArray 6 (Horizontal Stacking of Array 3):\\n\", array6)\n"
   ]
  },
  {
   "cell_type": "code",
   "execution_count": null,
   "id": "9f6ad333-9dc3-4416-a910-a00c91f27c55",
   "metadata": {},
   "outputs": [],
   "source": []
  }
 ],
 "metadata": {
  "kernelspec": {
   "display_name": "Python 3 (ipykernel)",
   "language": "python",
   "name": "python3"
  },
  "language_info": {
   "codemirror_mode": {
    "name": "ipython",
    "version": 3
   },
   "file_extension": ".py",
   "mimetype": "text/x-python",
   "name": "python",
   "nbconvert_exporter": "python",
   "pygments_lexer": "ipython3",
   "version": "3.12.4"
  }
 },
 "nbformat": 4,
 "nbformat_minor": 5
}
